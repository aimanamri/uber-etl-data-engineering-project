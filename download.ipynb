{
 "cells": [
  {
   "cell_type": "markdown",
   "id": "59338fc0-845d-4d16-a3c8-58669d98d15d",
   "metadata": {},
   "source": [
    "# Import parquet data from the website URLs dynamically"
   ]
  },
  {
   "cell_type": "markdown",
   "id": "363b5e32",
   "metadata": {},
   "source": [
    "Run docker container with attached volume to host current working directory.\n",
    "\n",
    "```shell\n",
    "docker run --name ETL_project -d -it --rm -p 8888:8888 -v C:\\Users\\aiman\\Desktop\\yellow-taxi-trips-etl-data-engineering-project\\:/home/jovyan/work/ jupyter/pyspark-notebook\n",
    "``` "
   ]
  },
  {
   "cell_type": "code",
   "execution_count": 1,
   "id": "3e947a51",
   "metadata": {},
   "outputs": [],
   "source": [
    "import requests\n",
    "from time import sleep\n",
    "import time\n",
    "from multiprocessing import cpu_count\n",
    "from multiprocessing.pool import ThreadPool"
   ]
  },
  {
   "cell_type": "code",
   "execution_count": null,
   "id": "d65ecc73",
   "metadata": {},
   "outputs": [],
   "source": [
    "url_2022 = ['https://d37ci6vzurychx.cloudfront.net/trip-data/yellow_tripdata_2022-01.parquet',\n",
    "'https://d37ci6vzurychx.cloudfront.net/trip-data/yellow_tripdata_2022-02.parquet',\n",
    "'https://d37ci6vzurychx.cloudfront.net/trip-data/yellow_tripdata_2022-03.parquet',\n",
    "'https://d37ci6vzurychx.cloudfront.net/trip-data/yellow_tripdata_2022-04.parquet',\n",
    "'https://d37ci6vzurychx.cloudfront.net/trip-data/yellow_tripdata_2022-05.parquet',\n",
    "'https://d37ci6vzurychx.cloudfront.net/trip-data/yellow_tripdata_2022-06.parquet',\n",
    "'https://d37ci6vzurychx.cloudfront.net/trip-data/yellow_tripdata_2022-07.parquet',\n",
    "'https://d37ci6vzurychx.cloudfront.net/trip-data/yellow_tripdata_2022-08.parquet',\n",
    "'https://d37ci6vzurychx.cloudfront.net/trip-data/yellow_tripdata_2022-09.parquet',\n",
    "'https://d37ci6vzurychx.cloudfront.net/trip-data/yellow_tripdata_2022-10.parquet',\n",
    "'https://d37ci6vzurychx.cloudfront.net/trip-data/yellow_tripdata_2022-11.parquet',\n",
    "'https://d37ci6vzurychx.cloudfront.net/trip-data/yellow_tripdata_2022-12.parquet']\n",
    "\n",
    "url_2021 = ['https://d37ci6vzurychx.cloudfront.net/trip-data/yellow_tripdata_2021-01.parquet',\n",
    "'https://d37ci6vzurychx.cloudfront.net/trip-data/yellow_tripdata_2021-02.parquet',\n",
    "'https://d37ci6vzurychx.cloudfront.net/trip-data/yellow_tripdata_2021-03.parquet',\n",
    "'https://d37ci6vzurychx.cloudfront.net/trip-data/yellow_tripdata_2021-04.parquet',\n",
    "'https://d37ci6vzurychx.cloudfront.net/trip-data/yellow_tripdata_2021-05.parquet',\n",
    "'https://d37ci6vzurychx.cloudfront.net/trip-data/yellow_tripdata_2021-06.parquet',\n",
    "'https://d37ci6vzurychx.cloudfront.net/trip-data/yellow_tripdata_2021-07.parquet',\n",
    "'https://d37ci6vzurychx.cloudfront.net/trip-data/yellow_tripdata_2021-08.parquet',\n",
    "'https://d37ci6vzurychx.cloudfront.net/trip-data/yellow_tripdata_2021-09.parquet',\n",
    "'https://d37ci6vzurychx.cloudfront.net/trip-data/yellow_tripdata_2021-10.parquet',\n",
    "'https://d37ci6vzurychx.cloudfront.net/trip-data/yellow_tripdata_2021-11.parquet',\n",
    "'https://d37ci6vzurychx.cloudfront.net/trip-data/yellow_tripdata_2021-12.parquet']\n",
    "\n",
    "url_2020 = ['https://d37ci6vzurychx.cloudfront.net/trip-data/yellow_tripdata_2020-01.parquet',\n",
    "'https://d37ci6vzurychx.cloudfront.net/trip-data/yellow_tripdata_2020-02.parquet',\n",
    "'https://d37ci6vzurychx.cloudfront.net/trip-data/yellow_tripdata_2020-03.parquet',\n",
    "'https://d37ci6vzurychx.cloudfront.net/trip-data/yellow_tripdata_2020-04.parquet',\n",
    "'https://d37ci6vzurychx.cloudfront.net/trip-data/yellow_tripdata_2020-05.parquet',\n",
    "'https://d37ci6vzurychx.cloudfront.net/trip-data/yellow_tripdata_2020-06.parquet',\n",
    "'https://d37ci6vzurychx.cloudfront.net/trip-data/yellow_tripdata_2020-07.parquet',\n",
    "'https://d37ci6vzurychx.cloudfront.net/trip-data/yellow_tripdata_2020-08.parquet',\n",
    "'https://d37ci6vzurychx.cloudfront.net/trip-data/yellow_tripdata_2020-09.parquet',\n",
    "'https://d37ci6vzurychx.cloudfront.net/trip-data/yellow_tripdata_2020-10.parquet',\n",
    "'https://d37ci6vzurychx.cloudfront.net/trip-data/yellow_tripdata_2020-11.parquet',\n",
    "'https://d37ci6vzurychx.cloudfront.net/trip-data/yellow_tripdata_2020-12.parquet']\n",
    "\n",
    "url_2019 = ['https://d37ci6vzurychx.cloudfront.net/trip-data/yellow_tripdata_2019-01.parquet',\n",
    "'https://d37ci6vzurychx.cloudfront.net/trip-data/yellow_tripdata_2019-02.parquet',\n",
    "'https://d37ci6vzurychx.cloudfront.net/trip-data/yellow_tripdata_2019-03.parquet',\n",
    "'https://d37ci6vzurychx.cloudfront.net/trip-data/yellow_tripdata_2019-04.parquet',\n",
    "'https://d37ci6vzurychx.cloudfront.net/trip-data/yellow_tripdata_2019-05.parquet',\n",
    "'https://d37ci6vzurychx.cloudfront.net/trip-data/yellow_tripdata_2019-06.parquet',\n",
    "'https://d37ci6vzurychx.cloudfront.net/trip-data/yellow_tripdata_2019-07.parquet',\n",
    "'https://d37ci6vzurychx.cloudfront.net/trip-data/yellow_tripdata_2019-08.parquet',\n",
    "'https://d37ci6vzurychx.cloudfront.net/trip-data/yellow_tripdata_2019-09.parquet',\n",
    "'https://d37ci6vzurychx.cloudfront.net/trip-data/yellow_tripdata_2019-10.parquet',\n",
    "'https://d37ci6vzurychx.cloudfront.net/trip-data/yellow_tripdata_2019-11.parquet',\n",
    "'https://d37ci6vzurychx.cloudfront.net/trip-data/yellow_tripdata_2019-12.parquet']\n",
    "\n",
    "url_2018 = ['https://d37ci6vzurychx.cloudfront.net/trip-data/yellow_tripdata_2018-01.parquet',\n",
    "'https://d37ci6vzurychx.cloudfront.net/trip-data/yellow_tripdata_2018-02.parquet',\n",
    "'https://d37ci6vzurychx.cloudfront.net/trip-data/yellow_tripdata_2018-03.parquet',\n",
    "'https://d37ci6vzurychx.cloudfront.net/trip-data/yellow_tripdata_2018-04.parquet',\n",
    "'https://d37ci6vzurychx.cloudfront.net/trip-data/yellow_tripdata_2018-05.parquet',\n",
    "'https://d37ci6vzurychx.cloudfront.net/trip-data/yellow_tripdata_2018-06.parquet',\n",
    "'https://d37ci6vzurychx.cloudfront.net/trip-data/yellow_tripdata_2018-07.parquet',\n",
    "'https://d37ci6vzurychx.cloudfront.net/trip-data/yellow_tripdata_2018-08.parquet',\n",
    "'https://d37ci6vzurychx.cloudfront.net/trip-data/yellow_tripdata_2018-09.parquet',\n",
    "'https://d37ci6vzurychx.cloudfront.net/trip-data/yellow_tripdata_2018-10.parquet',\n",
    "'https://d37ci6vzurychx.cloudfront.net/trip-data/yellow_tripdata_2018-11.parquet',\n",
    "'https://d37ci6vzurychx.cloudfront.net/trip-data/yellow_tripdata_2018-12.parquet']"
   ]
  },
  {
   "cell_type": "code",
   "execution_count": null,
   "id": "85be71f9",
   "metadata": {},
   "outputs": [],
   "source": [
    "path_2022 = [f\"/home/jovyan/work/parquet/{i.split('/')[-1].split('_')[-1]}\" for i in url_2022]\n",
    "path_2021 = [f\"/home/jovyan/work/parquet/{i.split('/')[-1].split('_')[-1]}\" for i in url_2021]\n",
    "path_2020 = [f\"/home/jovyan/work/parquet/{i.split('/')[-1].split('_')[-1]}\" for i in url_2020]\n",
    "path_2019 = [f\"/home/jovyan/work/parquet/{i.split('/')[-1].split('_')[-1]}\" for i in url_2019]\n",
    "path_2018 = [f\"/home/jovyan/work/parquet/{i.split('/')[-1].split('_')[-1]}\" for i in url_2018]"
   ]
  },
  {
   "cell_type": "code",
   "execution_count": null,
   "id": "20025f40",
   "metadata": {},
   "outputs": [],
   "source": [
    "input_2022 = zip(url_2022, path_2022)\n",
    "input_2021 = zip(url_2021, path_2021)\n",
    "input_2020 = zip(url_2020, path_2020)\n",
    "input_2019 = zip(url_2019, path_2019)\n",
    "input_2018 = zip(url_2018, path_2018)"
   ]
  },
  {
   "cell_type": "code",
   "execution_count": null,
   "id": "8c211da3",
   "metadata": {},
   "outputs": [],
   "source": [
    "def download_url(args):\n",
    "    t0 = time.time()\n",
    "    url, fn = args[0], args[1]\n",
    "    try:\n",
    "        r = requests.get(url)\n",
    "        with open(fn, 'wb') as f:\n",
    "            f.write(r.content)\n",
    "        return(url, time.time() - t0)\n",
    "    except Exception as e:\n",
    "        print('Exception in download_url():', e)"
   ]
  },
  {
   "cell_type": "code",
   "execution_count": null,
   "id": "a1973061",
   "metadata": {},
   "outputs": [],
   "source": [
    "def download_parallel(args):\n",
    "    cpus = cpu_count()\n",
    "    results = ThreadPool(cpus - 1).imap_unordered(download_url, args)\n",
    "    for result in results:\n",
    "        print(f\"URL: {result[0]}, Time (s): {result[1]:.2f}\")"
   ]
  },
  {
   "cell_type": "code",
   "execution_count": null,
   "id": "e03245fb",
   "metadata": {},
   "outputs": [],
   "source": [
    "\"\"\"Download all input data in a loop\"\"\"\n",
    "inputs = [input_2022,input_2021,input_2020,input_2019,input_2018]\n",
    "print(f\"Input objects : {inputs}\\n\")\n",
    "for n,i in enumerate(inputs):\n",
    "    print(f\"{n+1} - Now downloading data for {i}\")\n",
    "    download_parallel(i)\n",
    "    print(f\"Download finished successfully for {i}. 1-minute cooldown, please wait...\\n\")\n",
    "    if i == inputs[-1]:\n",
    "        print(f\"[SUCCESS] All data downloaded !\")\n",
    "    else:\n",
    "        sleep(60)"
   ]
  }
 ],
 "metadata": {
  "kernelspec": {
   "display_name": "Python 3 (ipykernel)",
   "language": "python",
   "name": "python3"
  },
  "language_info": {
   "codemirror_mode": {
    "name": "ipython",
    "version": 3
   },
   "file_extension": ".py",
   "mimetype": "text/x-python",
   "name": "python",
   "nbconvert_exporter": "python",
   "pygments_lexer": "ipython3",
   "version": "3.11.6"
  }
 },
 "nbformat": 4,
 "nbformat_minor": 5
}
